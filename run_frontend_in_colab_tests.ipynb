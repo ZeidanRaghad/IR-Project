{
  "nbformat": 4,
  "nbformat_minor": 0,
  "metadata": {
    "colab": {
      "provenance": []
    },
    "kernelspec": {
      "name": "python3",
      "display_name": "Python 3"
    },
    "language_info": {
      "name": "python"
    }
  },
  "cells": [
    {
      "cell_type": "markdown",
      "source": [
        "# Testing your app\n",
        "\n",
        "Once your app is running you can query it. You can simply do that by navigating to the URL that ngrok gave you above or through code in a different python session. For example, once the frontend app is running, you can navigate to:\n",
        "http://YOUR_SERVER_DOMAIN/search?query=hello+world where YOUR_SERVER_DOMAIN is something like XXXX-XX-XX-XX-XX.ngrok.io, which is printed above in Colab or that is your external IP on GCP.\n",
        "\n",
        "The code below shows how to issue a query from python. This is also how our testing code will issue queries to your search engine, so make sure to test your search engine this way after you deploy it to GCP and before submission. Command line instructions for deploying your search engine to GCP are available at `run_frontend_in_gcp.sh`. Note that we will not only issue training queries to your search engine, but also test queries, i.e. queries that you've never seen before."
      ],
      "metadata": {
        "id": "Na0MC_1nzDbi"
      }
    },
    {
      "cell_type": "code",
      "source": [
        "import json\n",
        "\n",
        "with open('queries_train.json', 'rt') as f:\n",
        "  queries = json.load(f)"
      ],
      "metadata": {
        "id": "EM5ePrRHojbG"
      },
      "execution_count": 1,
      "outputs": []
    },
    {
      "cell_type": "code",
      "source": [
        "def average_precision(true_list, predicted_list, k=40):\n",
        "    true_set = frozenset(true_list)\n",
        "    predicted_list = predicted_list[:k]\n",
        "    precisions = []\n",
        "    for i,doc_id in enumerate(predicted_list):\n",
        "        if doc_id in true_set:\n",
        "            prec = (len(precisions)+1) / (i+1)\n",
        "            precisions.append(prec)\n",
        "    if len(precisions) == 0:\n",
        "        return 0.0\n",
        "    return round(sum(precisions)/len(precisions),3)"
      ],
      "metadata": {
        "id": "gWimZWCOy3Ei"
      },
      "execution_count": 2,
      "outputs": []
    },
    {
      "cell_type": "code",
      "source": [
        "def precision_at_k(true_list, predicted_list, k):\n",
        "    true_set = frozenset(true_list)\n",
        "    predicted_list = predicted_list[:k]\n",
        "    if len(predicted_list) == 0:\n",
        "        return 0.0\n",
        "    return round(len([1 for doc_id in predicted_list if doc_id in true_set]) / len(predicted_list), 3)\n",
        "def recall_at_k(true_list, predicted_list, k):\n",
        "    true_set = frozenset(true_list)\n",
        "    predicted_list = predicted_list[:k]\n",
        "    if len(true_set) < 1:\n",
        "        return 1.0\n",
        "    return round(len([1 for doc_id in predicted_list if doc_id in true_set]) / len(true_set), 3)\n",
        "def f1_at_k(true_list, predicted_list, k):\n",
        "    p = precision_at_k(true_list, predicted_list, k)\n",
        "    r = recall_at_k(true_list, predicted_list, k)\n",
        "    if p == 0.0 or r == 0.0:\n",
        "        return 0.0\n",
        "    return round(2.0 / (1.0/p + 1.0/r), 3)\n",
        "def results_quality(true_list, predicted_list):\n",
        "    p5 = precision_at_k(true_list, predicted_list, 5)\n",
        "    f1_30 = f1_at_k(true_list, predicted_list, 30)\n",
        "    if p5 == 0.0 or f1_30 == 0.0:\n",
        "        return 0.0\n",
        "    return round(2.0 / (1.0/p5 + 1.0/f1_30), 3)"
      ],
      "metadata": {
        "id": "geHKyFB4xkBe"
      },
      "execution_count": 3,
      "outputs": []
    },
    {
      "cell_type": "code",
      "source": [
        "assert precision_at_k(range(10), [1,2,3] , 2) == 1.0\n",
        "assert recall_at_k(   range(10), [10,5,3], 2) == 0.1\n",
        "assert precision_at_k(range(10), []      , 2) == 0.0\n",
        "assert precision_at_k([],        [1,2,3],  5) == 0.0\n",
        "assert recall_at_k(   [],        [10,5,3], 2) == 1.0\n",
        "assert recall_at_k(   range(10), [],       2) == 0.0\n",
        "assert f1_at_k(       [],        [1,2,3],  5) == 0.0\n",
        "assert f1_at_k(       range(10), [],       2) == 0.0\n",
        "assert f1_at_k(       range(10), [0,1,2],  2) == 0.333\n",
        "assert f1_at_k(       range(50), range(5), 30) == 0.182\n",
        "assert f1_at_k(       range(50), range(10), 30) == 0.333\n",
        "assert f1_at_k(       range(50), range(30), 30) == 0.75\n",
        "assert results_quality(range(50), range(5))  == 0.308\n",
        "assert results_quality(range(50), range(10)) == 0.5\n",
        "assert results_quality(range(50), range(30)) == 0.857\n",
        "assert results_quality(range(50), [-1]*5 + list(range(5,30))) == 0.0"
      ],
      "metadata": {
        "id": "-A129vaPRx6r"
      },
      "execution_count": 4,
      "outputs": []
    },
    {
      "cell_type": "code",
      "source": [
        "import requests\n",
        "from time import time\n",
        "# url = 'http://35.232.59.3:8080'\n",
        "# place the domain you got from ngrok or GCP IP below.\n",
        "url = 'http://9b62-34-123-201-180.ngrok-free.app'\n",
        "\n",
        "qs_res = []\n",
        "for q, true_wids in queries.items():\n",
        "    true_wids = map(int, true_wids)\n",
        "    duration, ap = None, None\n",
        "    t_start = time()\n",
        "    try:\n",
        "        res = requests.get(url + '/search', {'query': q}, timeout=35)\n",
        "        # print(q)\n",
        "        #print('anything')\n",
        "        duration = time() - t_start\n",
        "        #print(res.content)\n",
        "        if res.status_code == 200:\n",
        "            #print('anything')\n",
        "            pred_wids, _ = zip(*res.json())\n",
        "            #print('later')\n",
        "            ap = average_precision(true_wids, pred_wids,)\n",
        "    except:\n",
        "         pass\n",
        "\n",
        "    qs_res.append((q, duration, ap))\n",
        "    print((q, duration, ap))\n"
      ],
      "metadata": {
        "id": "dYmNTq9u0ChK",
        "colab": {
          "base_uri": "https://localhost:8080/"
        },
        "outputId": "10e48f1e-9efb-4e0c-9525-40af7acee4de"
      },
      "execution_count": 6,
      "outputs": [
        {
          "output_type": "stream",
          "name": "stdout",
          "text": [
            "('genetics', 0.4357006549835205, 0.382)\n",
            "('Who is considered the \"Father of the United States\"?', 6.036288499832153, 0.0)\n",
            "('economic', 0.8137991428375244, 0.144)\n",
            "('When was the United Nations founded?', 3.049494743347168, 0.124)\n",
            "('video gaming', 1.3163621425628662, 0.333)\n",
            "('3D printing technology', 0.8334200382232666, 0.036)\n",
            "('Who is the author of \"1984\"?', 1.5932774543762207, 0.0)\n",
            "('bioinformatics', 0.4131286144256592, 0.146)\n",
            "('Who is known for proposing the heliocentric model of the solar system?', 4.296607971191406, 0.452)\n",
            "('Describe the process of water erosion.', 2.270473003387451, 0.761)\n",
            "('When was the Berlin Wall constructed?', 1.3161044120788574, 0.573)\n",
            "('What is the meaning of the term \"Habeas Corpus\"?', 1.6618664264678955, 0.555)\n",
            "('telecommunications', 0.38660597801208496, 0.143)\n",
            "('internet', 0.71274733543396, 0.109)\n",
            "('What are the characteristics of a chemical element?', 2.277853488922119, 0.304)\n",
            "('Describe the structure of a plant cell.', 2.3162946701049805, 0.254)\n",
            "('Who painted \"Starry Night\"?', 1.296003818511963, 0.724)\n",
            "('computer', 0.7637012004852295, 0.181)\n",
            "(\"What is the structure of the Earth's layers?\", 2.7494819164276123, 0.62)\n",
            "('When did World War II end?', 3.884502410888672, 0.25)\n",
            "('When was the Gutenberg printing press invented?', 2.1263561248779297, 0.871)\n",
            "('medicine', 0.8472449779510498, 0.038)\n",
            "('Describe the water cycle.', 2.2714602947235107, 0.316)\n",
            "('artificial intelligence', 0.8706221580505371, 0.431)\n",
            "('physics', 0.505439043045044, 0.04)\n",
            "('nanotechnology', 0.35844922065734863, 0.633)\n",
            "('When did the Black Death pandemic occur?', 2.4428982734680176, 0.457)\n",
            "('neuroscience', 0.47383904457092285, 0.584)\n",
            "('snowboard', 0.4139580726623535, 0.094)\n",
            "('Who is the founder of modern psychology?', 1.5541565418243408, 0.306)\n"
          ]
        }
      ]
    },
    {
      "cell_type": "code",
      "source": [
        "import requests\n",
        "from time import time\n",
        "# url = 'http://35.232.59.3:8080'\n",
        "# place the domain you got from ngrok or GCP IP below.\n",
        "url = 'http://9b62-34-123-201-180.ngrok-free.app'\n",
        "# rq=0\n",
        "qs_res = []\n",
        "for q, true_wids in queries.items():\n",
        "  true_wids = map(int, true_wids)\n",
        "  duration, rq = None, None\n",
        "  t_start = time()\n",
        "  try:\n",
        "    res = requests.get(url + '/search', {'query': q}, timeout=35)\n",
        "    # print(res.content)\n",
        "    duration = time() - t_start\n",
        "    if res.status_code == 200:\n",
        "      pred_wids, _ = zip(*res.json())\n",
        "      #print(pred_wids)\n",
        "      #rq=48324\n",
        "      rq = results_quality(true_wids, pred_wids)\n",
        "      qs_res.append((q, duration, rq))\n",
        "  except:\n",
        "    pass\n",
        "\n",
        "  # qs_res.append((q, duration, rq))\n",
        "  # print((q, duration, rq))"
      ],
      "metadata": {
        "id": "m1KXSpTI7z3i"
      },
      "execution_count": null,
      "outputs": []
    }
  ]
}