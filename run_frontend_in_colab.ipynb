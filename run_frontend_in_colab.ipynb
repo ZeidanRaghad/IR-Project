{
  "cells": [
    {
      "cell_type": "markdown",
      "source": [
        "## Essential Imports and authentication"
      ],
      "metadata": {
        "id": "Fij_-tg22cnA"
      }
    },
    {
      "cell_type": "code",
      "execution_count": 1,
      "metadata": {
        "colab": {
          "base_uri": "https://localhost:8080/"
        },
        "id": "bCPDHP7zTQJZ",
        "outputId": "19c69d42-ab0b-4d7e-cd79-e38e07ebcf71"
      },
      "outputs": [
        {
          "output_type": "stream",
          "name": "stderr",
          "text": [
            "[nltk_data] Downloading package stopwords to /root/nltk_data...\n",
            "[nltk_data]   Unzipping corpora/stopwords.zip.\n"
          ]
        },
        {
          "output_type": "execute_result",
          "data": {
            "text/plain": [
              "True"
            ]
          },
          "metadata": {},
          "execution_count": 1
        }
      ],
      "source": [
        "# download nltk stopwords\n",
        "import nltk\n",
        "nltk.download('stopwords')"
      ]
    },
    {
      "cell_type": "code",
      "execution_count": 2,
      "metadata": {
        "id": "lAt6KT8xOgHH",
        "colab": {
          "base_uri": "https://localhost:8080/"
        },
        "outputId": "e14b84c0-287d-48e6-a364-cf2c1fe568f3"
      },
      "outputs": [
        {
          "output_type": "stream",
          "name": "stdout",
          "text": [
            "\u001b[?25l     \u001b[90m━━━━━━━━━━━━━━━━━━━━━━━━━━━━━━━━━━━━━━━━\u001b[0m \u001b[32m0.0/106.6 kB\u001b[0m \u001b[31m?\u001b[0m eta \u001b[36m-:--:--\u001b[0m\r\u001b[2K     \u001b[91m━━━━━━━━━━━\u001b[0m\u001b[91m╸\u001b[0m\u001b[90m━━━━━━━━━━━━━━━━━━━━━━━━━━━━\u001b[0m \u001b[32m30.7/106.6 kB\u001b[0m \u001b[31m700.6 kB/s\u001b[0m eta \u001b[36m0:00:01\u001b[0m\r\u001b[2K     \u001b[91m━━━━━━━━━━━━━━━━━━━━━━━━━━━━━━━━━━\u001b[0m\u001b[91m╸\u001b[0m\u001b[90m━━━━━\u001b[0m \u001b[32m92.2/106.6 kB\u001b[0m \u001b[31m1.2 MB/s\u001b[0m eta \u001b[36m0:00:01\u001b[0m\r\u001b[2K     \u001b[90m━━━━━━━━━━━━━━━━━━━━━━━━━━━━━━━━━━━━━━━━\u001b[0m \u001b[32m106.6/106.6 kB\u001b[0m \u001b[31m1.2 MB/s\u001b[0m eta \u001b[36m0:00:00\u001b[0m\n",
            "\u001b[?25h\u001b[31mERROR: pip's dependency resolver does not currently take into account all the packages that are installed. This behaviour is the source of the following dependency conflicts.\n",
            "bigframes 1.0.0 requires google-cloud-storage>=2.0.0, but you have google-cloud-storage 1.43.0 which is incompatible.\u001b[0m\u001b[31m\n",
            "\u001b[0m"
          ]
        }
      ],
      "source": [
        "# Install a particular version of `google-cloud-storage` because (oddly enough)\n",
        "# the  version on Colab and GCP is old. A dependency error below is okay.\n",
        "!pip install -q google-cloud-storage==1.43.0"
      ]
    },
    {
      "cell_type": "code",
      "execution_count": 3,
      "metadata": {
        "id": "-oKFly5jFLFn"
      },
      "outputs": [],
      "source": [
        "# authenticate below for Google Storage access as needed\n",
        "from google.colab import auth\n",
        "auth.authenticate_user()"
      ]
    },
    {
      "cell_type": "code",
      "execution_count": 4,
      "metadata": {
        "colab": {
          "base_uri": "https://localhost:8080/"
        },
        "id": "FrBdFNYgiyab",
        "outputId": "6e56a14f-dee3-4306-b236-572ba4c62d9a"
      },
      "outputs": [
        {
          "output_type": "stream",
          "name": "stdout",
          "text": [
            "WARNING: timestamping does nothing in combination with -O. See the manual\n",
            "for details.\n",
            "\n",
            "--2024-03-29 16:01:28--  https://bin.equinox.io/c/4VmDzA7iaHb/ngrok-stable-linux-amd64.zip\n",
            "Resolving bin.equinox.io (bin.equinox.io)... 52.202.168.65, 54.161.241.46, 18.205.222.128, ...\n",
            "Connecting to bin.equinox.io (bin.equinox.io)|52.202.168.65|:443... connected.\n",
            "HTTP request sent, awaiting response... 200 OK\n",
            "Length: 13921656 (13M) [application/octet-stream]\n",
            "Saving to: ‘ngrok-stable-linux-amd64.zip’\n",
            "\n",
            "ngrok-stable-linux- 100%[===================>]  13.28M  40.5MB/s    in 0.3s    \n",
            "\n",
            "2024-03-29 16:01:29 (40.5 MB/s) - ‘ngrok-stable-linux-amd64.zip’ saved [13921656/13921656]\n",
            "\n",
            "Archive:  ngrok-stable-linux-amd64.zip\n",
            "  inflating: ngrok                   \n"
          ]
        }
      ],
      "source": [
        "# install ngrok to emulate public IP / address\n",
        "!wget -N https://bin.equinox.io/c/4VmDzA7iaHb/ngrok-stable-linux-amd64.zip -O ngrok-stable-linux-amd64.zip\n",
        "!unzip -u ngrok-stable-linux-amd64.zip"
      ]
    },
    {
      "cell_type": "code",
      "execution_count": 5,
      "metadata": {
        "colab": {
          "base_uri": "https://localhost:8080/"
        },
        "id": "xA-_dKEZbsXW",
        "outputId": "473cce62-9f27-4a9c-fe25-9e016045793f"
      },
      "outputs": [
        {
          "output_type": "stream",
          "name": "stdout",
          "text": [
            "Authtoken saved to configuration file: /root/.ngrok2/ngrok.yml\n"
          ]
        }
      ],
      "source": [
        "# TODO: sign up for an ngrok account\n",
        "# then put your ngrok token below, uncomment, and execute\n",
        "!./ngrok authtoken 2dbmVBkpO1kUMTYhlXKBATPzs67_6Lmggm1cZtaJyDZj8yBfo"
      ]
    },
    {
      "cell_type": "code",
      "source": [
        "#necessary for proper import of search_frontend as se later in the code\n",
        "# !pip -q install flask-ngrok\n",
        "# !pip -q install flask==0.12.2\n",
        "# # !pip -q install flask_restful\n",
        "# !pip install jinja2\n",
        "# import jinja2\n",
        "# !pip install Markup\n",
        "# from markupsafe import Markup\n",
        "# Markup()\n",
        "# Markup('')\n",
        "# !pip install --upgrade jinja2\n",
        "# !pip uninstall  Flask Jinja2\n",
        "# !pip install Flask Jinja2\n",
        "# !pip install Flask==2.0.3\n",
        "# !pip install Werkzeug==2.2.2"
      ],
      "metadata": {
        "colab": {
          "base_uri": "https://localhost:8080/"
        },
        "id": "FdbuxLt3MqLY",
        "outputId": "7dc7a656-2536-4b99-d352-f16ba89fb810"
      },
      "execution_count": 6,
      "outputs": [
        {
          "output_type": "stream",
          "name": "stdout",
          "text": [
            "\u001b[?25l     \u001b[90m━━━━━━━━━━━━━━━━━━━━━━━━━━━━━━━━━━━━━━━━\u001b[0m \u001b[32m0.0/83.0 kB\u001b[0m \u001b[31m?\u001b[0m eta \u001b[36m-:--:--\u001b[0m\r\u001b[2K     \u001b[91m━━━━━━━━━━━━━━\u001b[0m\u001b[91m╸\u001b[0m\u001b[90m━━━━━━━━━━━━━━━━━━━━━━━━━\u001b[0m \u001b[32m30.7/83.0 kB\u001b[0m \u001b[31m1.2 MB/s\u001b[0m eta \u001b[36m0:00:01\u001b[0m\r\u001b[2K     \u001b[90m━━━━━━━━━━━━━━━━━━━━━━━━━━━━━━━━━━━━━━━━\u001b[0m \u001b[32m83.0/83.0 kB\u001b[0m \u001b[31m1.1 MB/s\u001b[0m eta \u001b[36m0:00:00\u001b[0m\n",
            "\u001b[?25hRequirement already satisfied: jinja2 in /usr/local/lib/python3.10/dist-packages (3.1.3)\n",
            "Requirement already satisfied: MarkupSafe>=2.0 in /usr/local/lib/python3.10/dist-packages (from jinja2) (2.1.5)\n",
            "Collecting Markup\n",
            "  Downloading markup-0.2.tar.gz (5.2 kB)\n",
            "  Preparing metadata (setup.py) ... \u001b[?25l\u001b[?25hdone\n",
            "Building wheels for collected packages: Markup\n",
            "  Building wheel for Markup (setup.py) ... \u001b[?25l\u001b[?25hdone\n",
            "  Created wheel for Markup: filename=markup-0.2-py3-none-any.whl size=5634 sha256=294e70a23b9b7442b0d6341c043d5419cd18b14a2b6dd3db2899b9295e5c388a\n",
            "  Stored in directory: /root/.cache/pip/wheels/f0/72/9f/cb2b9b52d2bf4f96116dcce83b67bab08b405c06a76aad4ddf\n",
            "Successfully built Markup\n",
            "Installing collected packages: Markup\n",
            "Successfully installed Markup-0.2\n",
            "Requirement already satisfied: jinja2 in /usr/local/lib/python3.10/dist-packages (3.1.3)\n",
            "Requirement already satisfied: MarkupSafe>=2.0 in /usr/local/lib/python3.10/dist-packages (from jinja2) (2.1.5)\n",
            "Found existing installation: Flask 0.12.2\n",
            "Uninstalling Flask-0.12.2:\n",
            "  Would remove:\n",
            "    /usr/local/bin/flask\n",
            "    /usr/local/lib/python3.10/dist-packages/Flask-0.12.2.dist-info/*\n",
            "    /usr/local/lib/python3.10/dist-packages/flask/*\n",
            "Proceed (Y/n)? y\n",
            "  Successfully uninstalled Flask-0.12.2\n",
            "Found existing installation: Jinja2 3.1.3\n",
            "Uninstalling Jinja2-3.1.3:\n",
            "  Would remove:\n",
            "    /usr/local/lib/python3.10/dist-packages/Jinja2-3.1.3.dist-info/*\n",
            "    /usr/local/lib/python3.10/dist-packages/jinja2/*\n",
            "Proceed (Y/n)? y\n",
            "  Successfully uninstalled Jinja2-3.1.3\n",
            "Collecting Flask\n",
            "  Downloading flask-3.0.2-py3-none-any.whl (101 kB)\n",
            "\u001b[2K     \u001b[90m━━━━━━━━━━━━━━━━━━━━━━━━━━━━━━━━━━━━━━━━\u001b[0m \u001b[32m101.3/101.3 kB\u001b[0m \u001b[31m1.5 MB/s\u001b[0m eta \u001b[36m0:00:00\u001b[0m\n",
            "\u001b[?25hCollecting Jinja2\n",
            "  Downloading Jinja2-3.1.3-py3-none-any.whl (133 kB)\n",
            "\u001b[2K     \u001b[90m━━━━━━━━━━━━━━━━━━━━━━━━━━━━━━━━━━━━━━━━\u001b[0m \u001b[32m133.2/133.2 kB\u001b[0m \u001b[31m6.0 MB/s\u001b[0m eta \u001b[36m0:00:00\u001b[0m\n",
            "\u001b[?25hRequirement already satisfied: Werkzeug>=3.0.0 in /usr/local/lib/python3.10/dist-packages (from Flask) (3.0.1)\n",
            "Requirement already satisfied: itsdangerous>=2.1.2 in /usr/local/lib/python3.10/dist-packages (from Flask) (2.1.2)\n",
            "Requirement already satisfied: click>=8.1.3 in /usr/local/lib/python3.10/dist-packages (from Flask) (8.1.7)\n",
            "Collecting blinker>=1.6.2 (from Flask)\n",
            "  Downloading blinker-1.7.0-py3-none-any.whl (13 kB)\n",
            "Requirement already satisfied: MarkupSafe>=2.0 in /usr/local/lib/python3.10/dist-packages (from Jinja2) (2.1.5)\n",
            "Installing collected packages: Jinja2, blinker, Flask\n",
            "  Attempting uninstall: blinker\n",
            "    Found existing installation: blinker 1.4\n",
            "\u001b[31mERROR: Cannot uninstall 'blinker'. It is a distutils installed project and thus we cannot accurately determine which files belong to it which would lead to only a partial uninstall.\u001b[0m\u001b[31m\n",
            "\u001b[0mCollecting Flask==2.0.3\n",
            "  Downloading Flask-2.0.3-py3-none-any.whl (95 kB)\n",
            "\u001b[2K     \u001b[90m━━━━━━━━━━━━━━━━━━━━━━━━━━━━━━━━━━━━━━━━\u001b[0m \u001b[32m95.6/95.6 kB\u001b[0m \u001b[31m1.3 MB/s\u001b[0m eta \u001b[36m0:00:00\u001b[0m\n",
            "\u001b[?25hRequirement already satisfied: Werkzeug>=2.0 in /usr/local/lib/python3.10/dist-packages (from Flask==2.0.3) (3.0.1)\n",
            "Requirement already satisfied: Jinja2>=3.0 in /usr/local/lib/python3.10/dist-packages (from Flask==2.0.3) (3.1.3)\n",
            "Requirement already satisfied: itsdangerous>=2.0 in /usr/local/lib/python3.10/dist-packages (from Flask==2.0.3) (2.1.2)\n",
            "Requirement already satisfied: click>=7.1.2 in /usr/local/lib/python3.10/dist-packages (from Flask==2.0.3) (8.1.7)\n",
            "Requirement already satisfied: MarkupSafe>=2.0 in /usr/local/lib/python3.10/dist-packages (from Jinja2>=3.0->Flask==2.0.3) (2.1.5)\n",
            "Installing collected packages: Flask\n",
            "Successfully installed Flask-2.0.3\n",
            "Collecting Werkzeug==2.2.2\n",
            "  Downloading Werkzeug-2.2.2-py3-none-any.whl (232 kB)\n",
            "\u001b[2K     \u001b[90m━━━━━━━━━━━━━━━━━━━━━━━━━━━━━━━━━━━━━━━━\u001b[0m \u001b[32m232.7/232.7 kB\u001b[0m \u001b[31m1.8 MB/s\u001b[0m eta \u001b[36m0:00:00\u001b[0m\n",
            "\u001b[?25hRequirement already satisfied: MarkupSafe>=2.1.1 in /usr/local/lib/python3.10/dist-packages (from Werkzeug==2.2.2) (2.1.5)\n",
            "Installing collected packages: Werkzeug\n",
            "  Attempting uninstall: Werkzeug\n",
            "    Found existing installation: Werkzeug 3.0.1\n",
            "    Uninstalling Werkzeug-3.0.1:\n",
            "      Successfully uninstalled Werkzeug-3.0.1\n",
            "Successfully installed Werkzeug-2.2.2\n"
          ]
        }
      ]
    },
    {
      "cell_type": "code",
      "source": [
        "!pip install -q pyspark"
      ],
      "metadata": {
        "id": "e5ZGf0sZPn-A",
        "colab": {
          "base_uri": "https://localhost:8080/"
        },
        "outputId": "a30afeb4-5c7a-4d47-d1e5-5ccbef30f81e"
      },
      "execution_count": 7,
      "outputs": [
        {
          "output_type": "stream",
          "name": "stdout",
          "text": [
            "\u001b[2K     \u001b[90m━━━━━━━━━━━━━━━━━━━━━━━━━━━━━━━━━━━━━━━━\u001b[0m \u001b[32m317.0/317.0 MB\u001b[0m \u001b[31m1.2 MB/s\u001b[0m eta \u001b[36m0:00:00\u001b[0m\n",
            "\u001b[?25h  Preparing metadata (setup.py) ... \u001b[?25l\u001b[?25hdone\n",
            "  Building wheel for pyspark (setup.py) ... \u001b[?25l\u001b[?25hdone\n"
          ]
        }
      ]
    },
    {
      "cell_type": "code",
      "source": [
        "from pyspark.sql import *\n",
        "from pyspark.sql.functions import *\n",
        "from pyspark import SparkContext, SparkConf, SparkFiles\n",
        "from pyspark.sql import SQLContext"
      ],
      "metadata": {
        "id": "C4opytLgNsSg"
      },
      "execution_count": 8,
      "outputs": []
    },
    {
      "cell_type": "code",
      "source": [
        "!pip install pyngrok"
      ],
      "metadata": {
        "colab": {
          "base_uri": "https://localhost:8080/"
        },
        "id": "U4Jb6mU83iV6",
        "outputId": "3bb14964-54b1-4b8d-ec32-db5c13f108f3"
      },
      "execution_count": 9,
      "outputs": [
        {
          "output_type": "stream",
          "name": "stdout",
          "text": [
            "Collecting pyngrok\n",
            "  Downloading pyngrok-7.1.6-py3-none-any.whl (22 kB)\n",
            "Requirement already satisfied: PyYAML>=5.1 in /usr/local/lib/python3.10/dist-packages (from pyngrok) (6.0.1)\n",
            "Installing collected packages: pyngrok\n",
            "Successfully installed pyngrok-7.1.6\n"
          ]
        }
      ]
    },
    {
      "cell_type": "code",
      "source": [
        "from flask_ngrok import run_with_ngrok\n",
        "from pyngrok import ngrok"
      ],
      "metadata": {
        "id": "EJQK_M9X3Ha5"
      },
      "execution_count": 10,
      "outputs": []
    },
    {
      "cell_type": "code",
      "source": [
        "ngrok.set_auth_token('2dbmVBkpO1kUMTYhlXKBATPzs67_6Lmggm1cZtaJyDZj8yBfo')"
      ],
      "metadata": {
        "id": "lDKbZJCZ1Ae1",
        "colab": {
          "base_uri": "https://localhost:8080/"
        },
        "outputId": "aeed72c6-db60-4ad0-db7c-005c987c6d9d"
      },
      "execution_count": 11,
      "outputs": [
        {
          "output_type": "stream",
          "name": "stdout",
          "text": []
        }
      ]
    },
    {
      "cell_type": "code",
      "source": [
        "# from flask_ngrok import run_with_ngrok\n",
        "# from pyngrok import ngrok\n",
        "\n",
        "# public_url = ngrok.connect(\"5001\", bind_tls=False).public_url\n",
        "# #public_url=ngrok.connect('5000').public_url\n",
        "# print(f\" * ngrok tunnel \\\"{public_url}\\\" -> \\\"http://127.0.0.1:5000\\\"\")\n",
        "# # Update any base URLs to use the public ngrok URL\n",
        "# se.app.config[\"BASE_URL\"] = public_url\n",
        "# run_with_ngrok(se.app)\n",
        "# se.app.run()"
      ],
      "metadata": {
        "id": "f5wqH6A6zTiT"
      },
      "execution_count": null,
      "outputs": []
    },
    {
      "cell_type": "markdown",
      "metadata": {
        "id": "6dW0y91OVu5J"
      },
      "source": [
        "# Run the app"
      ]
    },
    {
      "cell_type": "code",
      "source": [
        "# you need to upload your implementation of search_app.py\n",
        "import search_frontend as se"
      ],
      "metadata": {
        "id": "y0GgUSCD5FKw"
      },
      "execution_count": 12,
      "outputs": []
    },
    {
      "cell_type": "code",
      "source": [
        "# uncomment the code below and execute to reload the module when you make\n",
        "# changes to search_frontend.py (after you upload again).\n",
        "import importlib\n",
        "importlib.reload(se)"
      ],
      "metadata": {
        "colab": {
          "base_uri": "https://localhost:8080/"
        },
        "id": "Wm7We1q35H9M",
        "outputId": "d0aaf16e-b52d-4bca-8d79-a5a92a30adfa"
      },
      "execution_count": 13,
      "outputs": [
        {
          "output_type": "execute_result",
          "data": {
            "text/plain": [
              "<module 'search_frontend' from '/content/search_frontend.py'>"
            ]
          },
          "metadata": {},
          "execution_count": 13
        }
      ]
    },
    {
      "cell_type": "code",
      "source": [
        "from flask_ngrok import run_with_ngrok\n",
        "# public_url=ngrok.connect('5000').public_url\n",
        "\n",
        "# print(f'* ngrok tunnel \\'{public_url}\\'->\\'http://127.0.0.1:5000\\'')\n",
        "# se.app.config['BASE_URL']=public_url\n",
        "# #run_with_ngrok(se.app)\n",
        "# se.app.run()\n",
        "\n",
        "# public_url = ngrok.connect(\"5000\", bind_tls=False).public_url\n",
        "public_url=ngrok.connect('5000').public_url\n",
        "print(f\" * ngrok tunnel \\\"{public_url}\\\" -> \\\"http://127.0.0.1:5000\\\"\")\n",
        "# Update any base URLs to use the public ngrok URL\n",
        "se.app.config[\"BASE_URL\"] = public_url\n",
        "se.app.run()\n",
        "\n"
      ],
      "metadata": {
        "colab": {
          "base_uri": "https://localhost:8080/"
        },
        "id": "31_hzTYw5Kn2",
        "outputId": "2475fb6e-f37e-49ce-80b7-e0f571bcc7e4"
      },
      "execution_count": 14,
      "outputs": [
        {
          "output_type": "stream",
          "name": "stderr",
          "text": [
            "WARNING:pyngrok.process.ngrok:t=2024-03-29T16:07:35+0000 lvl=warn msg=\"ngrok config file found at both XDG and legacy locations, using XDG location\" xdg_path=/root/.config/ngrok/ngrok.yml legacy_path=/root/.ngrok2/ngrok.yml\n"
          ]
        },
        {
          "output_type": "stream",
          "name": "stdout",
          "text": [
            " * ngrok tunnel \"https://9b62-34-123-201-180.ngrok-free.app\" -> \"http://127.0.0.1:5000\"\n",
            " * Serving Flask app 'search_frontend' (lazy loading)\n",
            " * Environment: production\n",
            "\u001b[31m   WARNING: This is a development server. Do not use it in a production deployment.\u001b[0m\n",
            "\u001b[2m   Use a production WSGI server instead.\u001b[0m\n",
            " * Debug mode: off\n"
          ]
        },
        {
          "output_type": "stream",
          "name": "stderr",
          "text": [
            "[nltk_data] Downloading package stopwords to /root/nltk_data...\n",
            "[nltk_data]   Package stopwords is already up-to-date!\n",
            "INFO:werkzeug:\u001b[31m\u001b[1mWARNING: This is a development server. Do not use it in a production deployment. Use a production WSGI server instead.\u001b[0m\n",
            " * Running on http://127.0.0.1:5000\n",
            "INFO:werkzeug:\u001b[33mPress CTRL+C to quit\u001b[0m\n",
            "INFO:werkzeug:127.0.0.1 - - [29/Mar/2024 16:08:48] \"GET /search?query=hello+world HTTP/1.1\" 200 -\n",
            "INFO:werkzeug:127.0.0.1 - - [29/Mar/2024 16:08:49] \"\u001b[33mGET /favicon.ico HTTP/1.1\u001b[0m\" 404 -\n",
            "INFO:werkzeug:127.0.0.1 - - [29/Mar/2024 16:09:51] \"GET /search?query=genetics HTTP/1.1\" 200 -\n",
            "INFO:werkzeug:127.0.0.1 - - [29/Mar/2024 16:09:58] \"GET /search?query=Who+is+considered+the+%22Father+of+the+United+States%22%3F HTTP/1.1\" 200 -\n",
            "INFO:werkzeug:127.0.0.1 - - [29/Mar/2024 16:09:59] \"GET /search?query=economic HTTP/1.1\" 200 -\n",
            "INFO:werkzeug:127.0.0.1 - - [29/Mar/2024 16:10:02] \"GET /search?query=When+was+the+United+Nations+founded%3F HTTP/1.1\" 200 -\n",
            "INFO:werkzeug:127.0.0.1 - - [29/Mar/2024 16:10:03] \"GET /search?query=video+gaming HTTP/1.1\" 200 -\n",
            "INFO:werkzeug:127.0.0.1 - - [29/Mar/2024 16:10:04] \"GET /search?query=3D+printing+technology HTTP/1.1\" 200 -\n",
            "INFO:werkzeug:127.0.0.1 - - [29/Mar/2024 16:10:07] \"GET /search?query=Who+is+the+author+of+%221984%22%3F HTTP/1.1\" 200 -\n",
            "INFO:werkzeug:127.0.0.1 - - [29/Mar/2024 16:10:07] \"GET /search?query=bioinformatics HTTP/1.1\" 200 -\n",
            "INFO:werkzeug:127.0.0.1 - - [29/Mar/2024 16:10:11] \"GET /search?query=Who+is+known+for+proposing+the+heliocentric+model+of+the+solar+system%3F HTTP/1.1\" 200 -\n",
            "INFO:werkzeug:127.0.0.1 - - [29/Mar/2024 16:10:14] \"GET /search?query=Describe+the+process+of+water+erosion. HTTP/1.1\" 200 -\n",
            "INFO:werkzeug:127.0.0.1 - - [29/Mar/2024 16:10:15] \"GET /search?query=When+was+the+Berlin+Wall+constructed%3F HTTP/1.1\" 200 -\n",
            "INFO:werkzeug:127.0.0.1 - - [29/Mar/2024 16:10:17] \"GET /search?query=telecommunications HTTP/1.1\" 200 -\n",
            "ERROR:search_frontend:Exception on /search [GET]\n",
            "Traceback (most recent call last):\n",
            "  File \"/usr/local/lib/python3.10/dist-packages/flask/app.py\", line 2073, in wsgi_app\n",
            "    response = self.full_dispatch_request()\n",
            "  File \"/usr/local/lib/python3.10/dist-packages/flask/app.py\", line 1518, in full_dispatch_request\n",
            "    rv = self.handle_user_exception(e)\n",
            "  File \"/usr/local/lib/python3.10/dist-packages/flask/app.py\", line 1516, in full_dispatch_request\n",
            "    rv = self.dispatch_request()\n",
            "  File \"/usr/local/lib/python3.10/dist-packages/flask/app.py\", line 1502, in dispatch_request\n",
            "    return self.ensure_sync(self.view_functions[rule.endpoint])(**req.view_args)\n",
            "  File \"/content/search_frontend.py\", line 78, in search\n",
            "    body_thread = threading.Thread(search_BM25(), args=query)\n",
            "  File \"/usr/lib/python3.10/threading.py\", line 850, in __init__\n",
            "    assert group is None, \"group argument must be None for now\"\n",
            "AssertionError: group argument must be None for now\n",
            "INFO:werkzeug:127.0.0.1 - - [29/Mar/2024 16:10:17] \"\u001b[35m\u001b[1mGET /search?query=What+is+the+meaning+of+the+term+%22Habeas+Corpus%22%3F HTTP/1.1\u001b[0m\" 500 -\n",
            "INFO:werkzeug:127.0.0.1 - - [29/Mar/2024 16:10:18] \"GET /search?query=internet HTTP/1.1\" 200 -\n",
            "INFO:werkzeug:127.0.0.1 - - [29/Mar/2024 16:10:20] \"GET /search?query=What+are+the+characteristics+of+a+chemical+element%3F HTTP/1.1\" 200 -\n",
            "INFO:werkzeug:127.0.0.1 - - [29/Mar/2024 16:10:22] \"GET /search?query=Describe+the+structure+of+a+plant+cell. HTTP/1.1\" 200 -\n",
            "INFO:werkzeug:127.0.0.1 - - [29/Mar/2024 16:10:23] \"GET /search?query=Who+painted+%22Starry+Night%22%3F HTTP/1.1\" 200 -\n",
            "INFO:werkzeug:127.0.0.1 - - [29/Mar/2024 16:10:24] \"GET /search?query=computer HTTP/1.1\" 200 -\n",
            "INFO:werkzeug:127.0.0.1 - - [29/Mar/2024 16:10:25] \"GET /search?query=What+is+the+structure+of+the+Earth's+layers%3F HTTP/1.1\" 200 -\n",
            "INFO:werkzeug:127.0.0.1 - - [29/Mar/2024 16:10:29] \"GET /search?query=When+did+World+War+II+end%3F HTTP/1.1\" 200 -\n",
            "INFO:werkzeug:127.0.0.1 - - [29/Mar/2024 16:10:32] \"GET /search?query=When+was+the+Gutenberg+printing+press+invented%3F HTTP/1.1\" 200 -\n",
            "INFO:werkzeug:127.0.0.1 - - [29/Mar/2024 16:10:32] \"GET /search?query=medicine HTTP/1.1\" 200 -\n",
            "INFO:werkzeug:127.0.0.1 - - [29/Mar/2024 16:10:34] \"GET /search?query=Describe+the+water+cycle. HTTP/1.1\" 200 -\n",
            "INFO:werkzeug:127.0.0.1 - - [29/Mar/2024 16:10:35] \"GET /search?query=artificial+intelligence HTTP/1.1\" 200 -\n",
            "INFO:werkzeug:127.0.0.1 - - [29/Mar/2024 16:10:36] \"GET /search?query=physics HTTP/1.1\" 200 -\n",
            "INFO:werkzeug:127.0.0.1 - - [29/Mar/2024 16:10:36] \"GET /search?query=nanotechnology HTTP/1.1\" 200 -\n",
            "INFO:werkzeug:127.0.0.1 - - [29/Mar/2024 16:10:39] \"GET /search?query=When+did+the+Black+Death+pandemic+occur%3F HTTP/1.1\" 200 -\n",
            "ERROR:search_frontend:Exception on /search [GET]\n",
            "Traceback (most recent call last):\n",
            "  File \"/usr/local/lib/python3.10/dist-packages/flask/app.py\", line 2073, in wsgi_app\n",
            "    response = self.full_dispatch_request()\n",
            "  File \"/usr/local/lib/python3.10/dist-packages/flask/app.py\", line 1518, in full_dispatch_request\n",
            "    rv = self.handle_user_exception(e)\n",
            "  File \"/usr/local/lib/python3.10/dist-packages/flask/app.py\", line 1516, in full_dispatch_request\n",
            "    rv = self.dispatch_request()\n",
            "  File \"/usr/local/lib/python3.10/dist-packages/flask/app.py\", line 1502, in dispatch_request\n",
            "    return self.ensure_sync(self.view_functions[rule.endpoint])(**req.view_args)\n",
            "  File \"/content/search_frontend.py\", line 78, in search\n",
            "    body_thread = threading.Thread(search_BM25(), args=query)\n",
            "  File \"/usr/lib/python3.10/threading.py\", line 850, in __init__\n",
            "    assert group is None, \"group argument must be None for now\"\n",
            "AssertionError: group argument must be None for now\n",
            "INFO:werkzeug:127.0.0.1 - - [29/Mar/2024 16:10:39] \"\u001b[35m\u001b[1mGET /search?query=neuroscience HTTP/1.1\u001b[0m\" 500 -\n",
            "INFO:werkzeug:127.0.0.1 - - [29/Mar/2024 16:10:39] \"GET /search?query=snowboard HTTP/1.1\" 200 -\n",
            "INFO:werkzeug:127.0.0.1 - - [29/Mar/2024 16:10:41] \"GET /search?query=Who+is+the+founder+of+modern+psychology%3F HTTP/1.1\" 200 -\n",
            "INFO:werkzeug:127.0.0.1 - - [29/Mar/2024 16:10:53] \"GET /search?query=genetics HTTP/1.1\" 200 -\n",
            "INFO:werkzeug:127.0.0.1 - - [29/Mar/2024 16:10:59] \"GET /search?query=Who+is+considered+the+%22Father+of+the+United+States%22%3F HTTP/1.1\" 200 -\n",
            "INFO:werkzeug:127.0.0.1 - - [29/Mar/2024 16:11:00] \"GET /search?query=economic HTTP/1.1\" 200 -\n",
            "INFO:werkzeug:127.0.0.1 - - [29/Mar/2024 16:11:03] \"GET /search?query=When+was+the+United+Nations+founded%3F HTTP/1.1\" 200 -\n",
            "INFO:werkzeug:127.0.0.1 - - [29/Mar/2024 16:11:05] \"GET /search?query=video+gaming HTTP/1.1\" 200 -\n",
            "INFO:werkzeug:127.0.0.1 - - [29/Mar/2024 16:11:05] \"GET /search?query=3D+printing+technology HTTP/1.1\" 200 -\n",
            "INFO:werkzeug:127.0.0.1 - - [29/Mar/2024 16:11:07] \"GET /search?query=Who+is+the+author+of+%221984%22%3F HTTP/1.1\" 200 -\n",
            "INFO:werkzeug:127.0.0.1 - - [29/Mar/2024 16:11:07] \"GET /search?query=bioinformatics HTTP/1.1\" 200 -\n",
            "INFO:werkzeug:127.0.0.1 - - [29/Mar/2024 16:11:12] \"GET /search?query=Who+is+known+for+proposing+the+heliocentric+model+of+the+solar+system%3F HTTP/1.1\" 200 -\n",
            "INFO:werkzeug:127.0.0.1 - - [29/Mar/2024 16:11:14] \"GET /search?query=Describe+the+process+of+water+erosion. HTTP/1.1\" 200 -\n",
            "INFO:werkzeug:127.0.0.1 - - [29/Mar/2024 16:11:15] \"GET /search?query=When+was+the+Berlin+Wall+constructed%3F HTTP/1.1\" 200 -\n",
            "INFO:werkzeug:127.0.0.1 - - [29/Mar/2024 16:11:17] \"GET /search?query=What+is+the+meaning+of+the+term+%22Habeas+Corpus%22%3F HTTP/1.1\" 200 -\n",
            "INFO:werkzeug:127.0.0.1 - - [29/Mar/2024 16:11:17] \"GET /search?query=telecommunications HTTP/1.1\" 200 -\n",
            "INFO:werkzeug:127.0.0.1 - - [29/Mar/2024 16:11:18] \"GET /search?query=internet HTTP/1.1\" 200 -\n",
            "INFO:werkzeug:127.0.0.1 - - [29/Mar/2024 16:11:20] \"GET /search?query=What+are+the+characteristics+of+a+chemical+element%3F HTTP/1.1\" 200 -\n",
            "INFO:werkzeug:127.0.0.1 - - [29/Mar/2024 16:11:23] \"GET /search?query=Describe+the+structure+of+a+plant+cell. HTTP/1.1\" 200 -\n",
            "INFO:werkzeug:127.0.0.1 - - [29/Mar/2024 16:11:24] \"GET /search?query=Who+painted+%22Starry+Night%22%3F HTTP/1.1\" 200 -\n",
            "INFO:werkzeug:127.0.0.1 - - [29/Mar/2024 16:11:25] \"GET /search?query=computer HTTP/1.1\" 200 -\n",
            "INFO:werkzeug:127.0.0.1 - - [29/Mar/2024 16:11:28] \"GET /search?query=What+is+the+structure+of+the+Earth's+layers%3F HTTP/1.1\" 200 -\n",
            "INFO:werkzeug:127.0.0.1 - - [29/Mar/2024 16:11:31] \"GET /search?query=When+did+World+War+II+end%3F HTTP/1.1\" 200 -\n",
            "INFO:werkzeug:127.0.0.1 - - [29/Mar/2024 16:11:34] \"GET /search?query=When+was+the+Gutenberg+printing+press+invented%3F HTTP/1.1\" 200 -\n",
            "INFO:werkzeug:127.0.0.1 - - [29/Mar/2024 16:11:34] \"GET /search?query=medicine HTTP/1.1\" 200 -\n",
            "INFO:werkzeug:127.0.0.1 - - [29/Mar/2024 16:11:37] \"GET /search?query=Describe+the+water+cycle. HTTP/1.1\" 200 -\n",
            "INFO:werkzeug:127.0.0.1 - - [29/Mar/2024 16:11:38] \"GET /search?query=artificial+intelligence HTTP/1.1\" 200 -\n",
            "INFO:werkzeug:127.0.0.1 - - [29/Mar/2024 16:11:38] \"GET /search?query=physics HTTP/1.1\" 200 -\n",
            "INFO:werkzeug:127.0.0.1 - - [29/Mar/2024 16:11:38] \"GET /search?query=nanotechnology HTTP/1.1\" 200 -\n",
            "INFO:werkzeug:127.0.0.1 - - [29/Mar/2024 16:11:41] \"GET /search?query=When+did+the+Black+Death+pandemic+occur%3F HTTP/1.1\" 200 -\n",
            "INFO:werkzeug:127.0.0.1 - - [29/Mar/2024 16:11:41] \"GET /search?query=neuroscience HTTP/1.1\" 200 -\n",
            "INFO:werkzeug:127.0.0.1 - - [29/Mar/2024 16:11:42] \"GET /search?query=snowboard HTTP/1.1\" 200 -\n",
            "INFO:werkzeug:127.0.0.1 - - [29/Mar/2024 16:11:43] \"GET /search?query=Who+is+the+founder+of+modern+psychology%3F HTTP/1.1\" 200 -\n",
            "INFO:werkzeug:127.0.0.1 - - [29/Mar/2024 16:12:38] \"GET /search?query=genetics HTTP/1.1\" 200 -\n",
            "INFO:werkzeug:127.0.0.1 - - [29/Mar/2024 16:12:43] \"GET /search?query=Who+is+considered+the+%22Father+of+the+United+States%22%3F HTTP/1.1\" 200 -\n",
            "INFO:werkzeug:127.0.0.1 - - [29/Mar/2024 16:12:43] \"GET /search?query=economic HTTP/1.1\" 200 -\n",
            "INFO:werkzeug:127.0.0.1 - - [29/Mar/2024 16:12:47] \"GET /search?query=video+gaming HTTP/1.1\" 200 -\n",
            "INFO:werkzeug:127.0.0.1 - - [29/Mar/2024 16:12:48] \"GET /search?query=3D+printing+technology HTTP/1.1\" 200 -\n",
            "ERROR:search_frontend:Exception on /search [GET]\n",
            "Traceback (most recent call last):\n",
            "  File \"/usr/local/lib/python3.10/dist-packages/flask/app.py\", line 2073, in wsgi_app\n",
            "    response = self.full_dispatch_request()\n",
            "  File \"/usr/local/lib/python3.10/dist-packages/flask/app.py\", line 1518, in full_dispatch_request\n",
            "    rv = self.handle_user_exception(e)\n",
            "  File \"/usr/local/lib/python3.10/dist-packages/flask/app.py\", line 1516, in full_dispatch_request\n",
            "    rv = self.dispatch_request()\n",
            "  File \"/usr/local/lib/python3.10/dist-packages/flask/app.py\", line 1502, in dispatch_request\n",
            "    return self.ensure_sync(self.view_functions[rule.endpoint])(**req.view_args)\n",
            "  File \"/content/search_frontend.py\", line 78, in search\n",
            "    body_thread = threading.Thread(search_BM25(), args=query)\n",
            "  File \"/usr/lib/python3.10/threading.py\", line 850, in __init__\n",
            "    assert group is None, \"group argument must be None for now\"\n",
            "AssertionError: group argument must be None for now\n",
            "INFO:werkzeug:127.0.0.1 - - [29/Mar/2024 16:12:49] \"\u001b[35m\u001b[1mGET /search?query=When+was+the+United+Nations+founded%3F HTTP/1.1\u001b[0m\" 500 -\n",
            "INFO:werkzeug:127.0.0.1 - - [29/Mar/2024 16:12:50] \"GET /search?query=Who+is+the+author+of+%221984%22%3F HTTP/1.1\" 200 -\n",
            "INFO:werkzeug:127.0.0.1 - - [29/Mar/2024 16:12:50] \"GET /search?query=bioinformatics HTTP/1.1\" 200 -\n",
            "INFO:werkzeug:127.0.0.1 - - [29/Mar/2024 16:12:54] \"GET /search?query=Who+is+known+for+proposing+the+heliocentric+model+of+the+solar+system%3F HTTP/1.1\" 200 -\n",
            "INFO:werkzeug:127.0.0.1 - - [29/Mar/2024 16:12:56] \"GET /search?query=Describe+the+process+of+water+erosion. HTTP/1.1\" 200 -\n",
            "INFO:werkzeug:127.0.0.1 - - [29/Mar/2024 16:12:57] \"GET /search?query=When+was+the+Berlin+Wall+constructed%3F HTTP/1.1\" 200 -\n",
            "INFO:werkzeug:127.0.0.1 - - [29/Mar/2024 16:13:00] \"GET /search?query=What+is+the+meaning+of+the+term+%22Habeas+Corpus%22%3F HTTP/1.1\" 200 -\n",
            "INFO:werkzeug:127.0.0.1 - - [29/Mar/2024 16:13:00] \"GET /search?query=telecommunications HTTP/1.1\" 200 -\n",
            "INFO:werkzeug:127.0.0.1 - - [29/Mar/2024 16:13:01] \"GET /search?query=internet HTTP/1.1\" 200 -\n",
            "INFO:werkzeug:127.0.0.1 - - [29/Mar/2024 16:13:02] \"GET /search?query=What+are+the+characteristics+of+a+chemical+element%3F HTTP/1.1\" 200 -\n",
            "INFO:werkzeug:127.0.0.1 - - [29/Mar/2024 16:13:04] \"GET /search?query=Describe+the+structure+of+a+plant+cell. HTTP/1.1\" 200 -\n",
            "INFO:werkzeug:127.0.0.1 - - [29/Mar/2024 16:13:06] \"GET /search?query=Who+painted+%22Starry+Night%22%3F HTTP/1.1\" 200 -\n",
            "INFO:werkzeug:127.0.0.1 - - [29/Mar/2024 16:13:06] \"GET /search?query=computer HTTP/1.1\" 200 -\n",
            "INFO:werkzeug:127.0.0.1 - - [29/Mar/2024 16:13:07] \"GET /search?query=What+is+the+structure+of+the+Earth's+layers%3F HTTP/1.1\" 200 -\n",
            "INFO:werkzeug:127.0.0.1 - - [29/Mar/2024 16:13:12] \"GET /search?query=When+did+World+War+II+end%3F HTTP/1.1\" 200 -\n",
            "INFO:werkzeug:127.0.0.1 - - [29/Mar/2024 16:13:14] \"GET /search?query=When+was+the+Gutenberg+printing+press+invented%3F HTTP/1.1\" 200 -\n",
            "INFO:werkzeug:127.0.0.1 - - [29/Mar/2024 16:13:15] \"GET /search?query=medicine HTTP/1.1\" 200 -\n",
            "INFO:werkzeug:127.0.0.1 - - [29/Mar/2024 16:13:16] \"GET /search?query=Describe+the+water+cycle. HTTP/1.1\" 200 -\n",
            "INFO:werkzeug:127.0.0.1 - - [29/Mar/2024 16:13:17] \"GET /search?query=artificial+intelligence HTTP/1.1\" 200 -\n",
            "INFO:werkzeug:127.0.0.1 - - [29/Mar/2024 16:13:18] \"GET /search?query=physics HTTP/1.1\" 200 -\n",
            "INFO:werkzeug:127.0.0.1 - - [29/Mar/2024 16:13:18] \"GET /search?query=nanotechnology HTTP/1.1\" 200 -\n",
            "INFO:werkzeug:127.0.0.1 - - [29/Mar/2024 16:13:20] \"GET /search?query=When+did+the+Black+Death+pandemic+occur%3F HTTP/1.1\" 200 -\n",
            "INFO:werkzeug:127.0.0.1 - - [29/Mar/2024 16:13:21] \"GET /search?query=neuroscience HTTP/1.1\" 200 -\n",
            "INFO:werkzeug:127.0.0.1 - - [29/Mar/2024 16:13:21] \"GET /search?query=snowboard HTTP/1.1\" 200 -\n",
            "INFO:werkzeug:127.0.0.1 - - [29/Mar/2024 16:13:22] \"GET /search?query=Who+is+the+founder+of+modern+psychology%3F HTTP/1.1\" 200 -\n",
            "INFO:werkzeug:127.0.0.1 - - [29/Mar/2024 16:13:57] \"GET /search?query=genetics HTTP/1.1\" 200 -\n",
            "INFO:werkzeug:127.0.0.1 - - [29/Mar/2024 16:14:03] \"GET /search?query=Who+is+considered+the+%22Father+of+the+United+States%22%3F HTTP/1.1\" 200 -\n",
            "INFO:werkzeug:127.0.0.1 - - [29/Mar/2024 16:14:04] \"GET /search?query=economic HTTP/1.1\" 200 -\n",
            "INFO:werkzeug:127.0.0.1 - - [29/Mar/2024 16:14:06] \"GET /search?query=When+was+the+United+Nations+founded%3F HTTP/1.1\" 200 -\n",
            "INFO:werkzeug:127.0.0.1 - - [29/Mar/2024 16:14:08] \"GET /search?query=video+gaming HTTP/1.1\" 200 -\n",
            "INFO:werkzeug:127.0.0.1 - - [29/Mar/2024 16:14:08] \"GET /search?query=3D+printing+technology HTTP/1.1\" 200 -\n",
            "INFO:werkzeug:127.0.0.1 - - [29/Mar/2024 16:14:10] \"GET /search?query=Who+is+the+author+of+%221984%22%3F HTTP/1.1\" 200 -\n",
            "INFO:werkzeug:127.0.0.1 - - [29/Mar/2024 16:14:10] \"GET /search?query=bioinformatics HTTP/1.1\" 200 -\n",
            "INFO:werkzeug:127.0.0.1 - - [29/Mar/2024 16:14:15] \"GET /search?query=Who+is+known+for+proposing+the+heliocentric+model+of+the+solar+system%3F HTTP/1.1\" 200 -\n",
            "INFO:werkzeug:127.0.0.1 - - [29/Mar/2024 16:14:17] \"GET /search?query=Describe+the+process+of+water+erosion. HTTP/1.1\" 200 -\n",
            "INFO:werkzeug:127.0.0.1 - - [29/Mar/2024 16:14:18] \"GET /search?query=When+was+the+Berlin+Wall+constructed%3F HTTP/1.1\" 200 -\n",
            "INFO:werkzeug:127.0.0.1 - - [29/Mar/2024 16:14:20] \"GET /search?query=What+is+the+meaning+of+the+term+%22Habeas+Corpus%22%3F HTTP/1.1\" 200 -\n",
            "INFO:werkzeug:127.0.0.1 - - [29/Mar/2024 16:14:20] \"GET /search?query=telecommunications HTTP/1.1\" 200 -\n",
            "INFO:werkzeug:127.0.0.1 - - [29/Mar/2024 16:14:21] \"GET /search?query=internet HTTP/1.1\" 200 -\n",
            "INFO:werkzeug:127.0.0.1 - - [29/Mar/2024 16:14:22] \"GET /search?query=What+are+the+characteristics+of+a+chemical+element%3F HTTP/1.1\" 200 -\n",
            "INFO:werkzeug:127.0.0.1 - - [29/Mar/2024 16:14:24] \"GET /search?query=Describe+the+structure+of+a+plant+cell. HTTP/1.1\" 200 -\n",
            "INFO:werkzeug:127.0.0.1 - - [29/Mar/2024 16:14:25] \"GET /search?query=Who+painted+%22Starry+Night%22%3F HTTP/1.1\" 200 -\n",
            "INFO:werkzeug:127.0.0.1 - - [29/Mar/2024 16:14:26] \"GET /search?query=computer HTTP/1.1\" 200 -\n",
            "INFO:werkzeug:127.0.0.1 - - [29/Mar/2024 16:14:27] \"GET /search?query=What+is+the+structure+of+the+Earth's+layers%3F HTTP/1.1\" 200 -\n",
            "INFO:werkzeug:127.0.0.1 - - [29/Mar/2024 16:14:31] \"GET /search?query=When+did+World+War+II+end%3F HTTP/1.1\" 200 -\n",
            "INFO:werkzeug:127.0.0.1 - - [29/Mar/2024 16:14:32] \"GET /search?query=When+was+the+Gutenberg+printing+press+invented%3F HTTP/1.1\" 200 -\n",
            "INFO:werkzeug:127.0.0.1 - - [29/Mar/2024 16:14:33] \"GET /search?query=medicine HTTP/1.1\" 200 -\n",
            "INFO:werkzeug:127.0.0.1 - - [29/Mar/2024 16:14:35] \"GET /search?query=Describe+the+water+cycle. HTTP/1.1\" 200 -\n",
            "INFO:werkzeug:127.0.0.1 - - [29/Mar/2024 16:14:35] \"GET /search?query=artificial+intelligence HTTP/1.1\" 200 -\n",
            "INFO:werkzeug:127.0.0.1 - - [29/Mar/2024 16:14:36] \"GET /search?query=physics HTTP/1.1\" 200 -\n",
            "INFO:werkzeug:127.0.0.1 - - [29/Mar/2024 16:14:36] \"GET /search?query=nanotechnology HTTP/1.1\" 200 -\n",
            "INFO:werkzeug:127.0.0.1 - - [29/Mar/2024 16:14:40] \"GET /search?query=When+did+the+Black+Death+pandemic+occur%3F HTTP/1.1\" 200 -\n",
            "INFO:werkzeug:127.0.0.1 - - [29/Mar/2024 16:14:40] \"GET /search?query=neuroscience HTTP/1.1\" 200 -\n",
            "INFO:werkzeug:127.0.0.1 - - [29/Mar/2024 16:14:41] \"GET /search?query=snowboard HTTP/1.1\" 200 -\n",
            "INFO:werkzeug:127.0.0.1 - - [29/Mar/2024 16:14:42] \"GET /search?query=Who+is+the+founder+of+modern+psychology%3F HTTP/1.1\" 200 -\n",
            "INFO:werkzeug:127.0.0.1 - - [29/Mar/2024 16:15:30] \"GET /search?query=genetics HTTP/1.1\" 200 -\n",
            "INFO:werkzeug:127.0.0.1 - - [29/Mar/2024 16:15:35] \"GET /search?query=Who+is+considered+the+%22Father+of+the+United+States%22%3F HTTP/1.1\" 200 -\n",
            "INFO:werkzeug:127.0.0.1 - - [29/Mar/2024 16:15:36] \"GET /search?query=economic HTTP/1.1\" 200 -\n",
            "INFO:werkzeug:127.0.0.1 - - [29/Mar/2024 16:15:39] \"GET /search?query=When+was+the+United+Nations+founded%3F HTTP/1.1\" 200 -\n",
            "INFO:werkzeug:127.0.0.1 - - [29/Mar/2024 16:15:41] \"GET /search?query=video+gaming HTTP/1.1\" 200 -\n",
            "INFO:werkzeug:127.0.0.1 - - [29/Mar/2024 16:15:41] \"GET /search?query=3D+printing+technology HTTP/1.1\" 200 -\n",
            "INFO:werkzeug:127.0.0.1 - - [29/Mar/2024 16:15:43] \"GET /search?query=Who+is+the+author+of+%221984%22%3F HTTP/1.1\" 200 -\n",
            "INFO:werkzeug:127.0.0.1 - - [29/Mar/2024 16:15:43] \"GET /search?query=bioinformatics HTTP/1.1\" 200 -\n",
            "INFO:werkzeug:127.0.0.1 - - [29/Mar/2024 16:15:47] \"GET /search?query=Who+is+known+for+proposing+the+heliocentric+model+of+the+solar+system%3F HTTP/1.1\" 200 -\n",
            "INFO:werkzeug:127.0.0.1 - - [29/Mar/2024 16:15:49] \"GET /search?query=Describe+the+process+of+water+erosion. HTTP/1.1\" 200 -\n",
            "INFO:werkzeug:127.0.0.1 - - [29/Mar/2024 16:15:50] \"GET /search?query=When+was+the+Berlin+Wall+constructed%3F HTTP/1.1\" 200 -\n",
            "INFO:werkzeug:127.0.0.1 - - [29/Mar/2024 16:15:53] \"GET /search?query=What+is+the+meaning+of+the+term+%22Habeas+Corpus%22%3F HTTP/1.1\" 200 -\n",
            "INFO:werkzeug:127.0.0.1 - - [29/Mar/2024 16:15:53] \"GET /search?query=telecommunications HTTP/1.1\" 200 -\n",
            "INFO:werkzeug:127.0.0.1 - - [29/Mar/2024 16:15:56] \"GET /search?query=internet HTTP/1.1\" 200 -\n",
            "INFO:werkzeug:127.0.0.1 - - [29/Mar/2024 16:15:57] \"GET /search?query=What+are+the+characteristics+of+a+chemical+element%3F HTTP/1.1\" 200 -\n",
            "INFO:werkzeug:127.0.0.1 - - [29/Mar/2024 16:16:02] \"GET /search?query=Describe+the+structure+of+a+plant+cell. HTTP/1.1\" 200 -\n",
            "INFO:werkzeug:127.0.0.1 - - [29/Mar/2024 16:16:03] \"GET /search?query=Who+painted+%22Starry+Night%22%3F HTTP/1.1\" 200 -\n",
            "INFO:werkzeug:127.0.0.1 - - [29/Mar/2024 16:16:04] \"GET /search?query=computer HTTP/1.1\" 200 -\n",
            "INFO:werkzeug:127.0.0.1 - - [29/Mar/2024 16:16:06] \"GET /search?query=What+is+the+structure+of+the+Earth's+layers%3F HTTP/1.1\" 200 -\n",
            "INFO:werkzeug:127.0.0.1 - - [29/Mar/2024 16:16:09] \"GET /search?query=When+did+World+War+II+end%3F HTTP/1.1\" 200 -\n",
            "INFO:werkzeug:127.0.0.1 - - [29/Mar/2024 16:16:11] \"GET /search?query=When+was+the+Gutenberg+printing+press+invented%3F HTTP/1.1\" 200 -\n",
            "INFO:werkzeug:127.0.0.1 - - [29/Mar/2024 16:16:12] \"GET /search?query=medicine HTTP/1.1\" 200 -\n",
            "INFO:werkzeug:127.0.0.1 - - [29/Mar/2024 16:16:13] \"GET /search?query=Describe+the+water+cycle. HTTP/1.1\" 200 -\n",
            "INFO:werkzeug:127.0.0.1 - - [29/Mar/2024 16:16:14] \"GET /search?query=artificial+intelligence HTTP/1.1\" 200 -\n",
            "INFO:werkzeug:127.0.0.1 - - [29/Mar/2024 16:16:15] \"GET /search?query=physics HTTP/1.1\" 200 -\n",
            "INFO:werkzeug:127.0.0.1 - - [29/Mar/2024 16:16:15] \"GET /search?query=nanotechnology HTTP/1.1\" 200 -\n",
            "INFO:werkzeug:127.0.0.1 - - [29/Mar/2024 16:16:19] \"GET /search?query=When+did+the+Black+Death+pandemic+occur%3F HTTP/1.1\" 200 -\n",
            "INFO:werkzeug:127.0.0.1 - - [29/Mar/2024 16:16:19] \"GET /search?query=neuroscience HTTP/1.1\" 200 -\n",
            "INFO:werkzeug:127.0.0.1 - - [29/Mar/2024 16:16:20] \"GET /search?query=snowboard HTTP/1.1\" 200 -\n",
            "INFO:werkzeug:127.0.0.1 - - [29/Mar/2024 16:16:21] \"GET /search?query=Who+is+the+founder+of+modern+psychology%3F HTTP/1.1\" 200 -\n"
          ]
        }
      ]
    },
    {
      "cell_type": "code",
      "source": [
        "# path = \"322514282/postings_gcp_text/38_022.bin\"\n",
        "# import gcsfs\n",
        "# fs = gcsfs.GCSFileSystem(project='irproject24')\n",
        "# print (fs.exists(path))"
      ],
      "metadata": {
        "colab": {
          "base_uri": "https://localhost:8080/"
        },
        "id": "NseSqSaHKgbx",
        "outputId": "a10fe7f7-48bd-432b-dc21-e0d31da2a501"
      },
      "execution_count": 7,
      "outputs": [
        {
          "output_type": "stream",
          "name": "stdout",
          "text": [
            "True\n"
          ]
        }
      ]
    },
    {
      "cell_type": "markdown",
      "metadata": {
        "id": "Na0MC_1nzDbi"
      },
      "source": [
        "# Testing your app\n",
        "\n",
        "Once your app is running you can query it. You can simply do that by navigating to the URL that ngrok gave you above or through code in a different python session. For example, once the frontend app is running, you can navigate to:\n",
        "http://YOUR_SERVER_DOMAIN/search?query=hello+world where YOUR_SERVER_DOMAIN is something like XXXX-XX-XX-XX-XX.ngrok.io, which is printed above in Colab or that is your external IP on GCP.\n",
        "\n",
        "The code below shows how to issue a query from python. This is also how our testing code will issue queries to your search engine, so make sure to test your search engine this way after you deploy it to GCP and before submission. Command line instructions for deploying your search engine to GCP are available at `run_frontend_in_gcp.sh`. Note that we will not only issue training queries to your search engine, but also test queries, i.e. queries that you've never seen before."
      ]
    },
    {
      "cell_type": "markdown",
      "source": [
        "***This Part will be added as a seperate notebook file named: run_frontend_in_colab_tests that includes all the results and tests ***"
      ],
      "metadata": {
        "id": "RQ4wjyGg498n"
      }
    },
    {
      "cell_type": "code",
      "execution_count": null,
      "metadata": {
        "id": "EM5ePrRHojbG"
      },
      "outputs": [],
      "source": [
        "import json\n",
        "\n",
        "with open('queries_train.json', 'rt') as f:\n",
        "    queries = json.load(f)"
      ]
    },
    {
      "cell_type": "code",
      "execution_count": null,
      "metadata": {
        "id": "gWimZWCOy3Ei"
      },
      "outputs": [],
      "source": [
        "def average_precision(true_list, predicted_list, k=40):\n",
        "    true_set = frozenset(true_list)\n",
        "    predicted_list = predicted_list[:k]\n",
        "    precisions = []\n",
        "    for i,doc_id in enumerate(predicted_list):\n",
        "        if doc_id in true_set:\n",
        "            prec = (len(precisions)+1) / (i+1)\n",
        "            precisions.append(prec)\n",
        "    if len(precisions) == 0:\n",
        "        return 0.0\n",
        "    return round(sum(precisions)/len(precisions),3)"
      ]
    },
    {
      "cell_type": "code",
      "source": [
        "def precision_at_k(true_list, predicted_list, k):\n",
        "    true_set = frozenset(true_list)\n",
        "    predicted_list = predicted_list[:k]\n",
        "    if len(predicted_list) == 0:\n",
        "        return 0.0\n",
        "    return round(len([1 for doc_id in predicted_list if doc_id in true_set]) / len(predicted_list), 3)\n",
        "def recall_at_k(true_list, predicted_list, k):\n",
        "    true_set = frozenset(true_list)\n",
        "    predicted_list = predicted_list[:k]\n",
        "    if len(true_set) < 1:\n",
        "        return 1.0\n",
        "    return round(len([1 for doc_id in predicted_list if doc_id in true_set]) / len(true_set), 3)\n",
        "def f1_at_k(true_list, predicted_list, k):\n",
        "    p = precision_at_k(true_list, predicted_list, k)\n",
        "    r = recall_at_k(true_list, predicted_list, k)\n",
        "    if p == 0.0 or r == 0.0:\n",
        "        return 0.0\n",
        "    return round(2.0 / (1.0/p + 1.0/r), 3)\n",
        "def results_quality(true_list, predicted_list):\n",
        "    p5 = precision_at_k(true_list, predicted_list, 5)\n",
        "    f1_30 = f1_at_k(true_list, predicted_list, 30)\n",
        "    if p5 == 0.0 or f1_30 == 0.0:\n",
        "        return 0.0\n",
        "    return round(2.0 / (1.0/p5 + 1.0/f1_30), 3)\n",
        "\n",
        "assert precision_at_k(range(10), [1,2,3] , 2) == 1.0\n",
        "assert recall_at_k(   range(10), [10,5,3], 2) == 0.1\n",
        "assert precision_at_k(range(10), []      , 2) == 0.0\n",
        "assert precision_at_k([],        [1,2,3],  5) == 0.0\n",
        "assert recall_at_k(   [],        [10,5,3], 2) == 1.0\n",
        "assert recall_at_k(   range(10), [],       2) == 0.0\n",
        "assert f1_at_k(       [],        [1,2,3],  5) == 0.0\n",
        "assert f1_at_k(       range(10), [],       2) == 0.0\n",
        "assert f1_at_k(       range(10), [0,1,2],  2) == 0.333\n",
        "assert f1_at_k(       range(50), range(5), 30) == 0.182\n",
        "assert f1_at_k(       range(50), range(10), 30) == 0.333\n",
        "assert f1_at_k(       range(50), range(30), 30) == 0.75\n",
        "assert results_quality(range(50), range(5))  == 0.308\n",
        "assert results_quality(range(50), range(10)) == 0.5\n",
        "assert results_quality(range(50), range(30)) == 0.857\n",
        "assert results_quality(range(50), [-1]*5 + list(range(5,30))) == 0.0\n"
      ],
      "metadata": {
        "id": "5llThCFn4cac"
      },
      "execution_count": null,
      "outputs": []
    },
    {
      "cell_type": "code",
      "execution_count": null,
      "metadata": {
        "id": "dYmNTq9u0ChK",
        "tags": []
      },
      "outputs": [],
      "source": [
        "import requests\n",
        "from time import time\n",
        "# url = 'http://35.232.59.3:8080'\n",
        "# place the domain you got from ngrok or GCP IP below.\n",
        "url = 'http://XXXX-XX-XX-XX-XX.ngrok.io'\n",
        "\n",
        "qs_res = []\n",
        "for q, true_wids in queries.items():\n",
        "  duration, ap = None, None\n",
        "  t_start = time()\n",
        "  try:\n",
        "    res = requests.get(url + '/search', {'query': q}, timeout=35)\n",
        "    duration = time() - t_start\n",
        "    if res.status_code == 200:\n",
        "      pred_wids, _ = zip(*res.json())\n",
        "      rq = results_quality(true_wids, pred_wids)\n",
        "  except:\n",
        "    pass\n",
        "\n",
        "  qs_res.append((q, duration, rq))"
      ]
    }
  ],
  "metadata": {
    "colab": {
      "provenance": []
    },
    "kernelspec": {
      "display_name": "Python 3",
      "language": "python",
      "name": "python3"
    },
    "language_info": {
      "codemirror_mode": {
        "name": "ipython",
        "version": 3
      },
      "file_extension": ".py",
      "mimetype": "text/x-python",
      "name": "python",
      "nbconvert_exporter": "python",
      "pygments_lexer": "ipython3",
      "version": "3.8.6"
    }
  },
  "nbformat": 4,
  "nbformat_minor": 0
}